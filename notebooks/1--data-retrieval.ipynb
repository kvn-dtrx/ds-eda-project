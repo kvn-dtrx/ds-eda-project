{
 "cells": [
  {
   "cell_type": "markdown",
   "id": "6006171f",
   "metadata": {},
   "source": [
    "# 1. Data Retrieval\n",
    "\n",
    "**TODO:** Copy from \n",
    "\n",
    "One for manual inspection (csv) and one conservative (pkl)"
   ]
  },
  {
   "cell_type": "markdown",
   "id": "439c1d9f",
   "metadata": {},
   "source": [
    "Loads necessary libraries for the EDA:"
   ]
  },
  {
   "cell_type": "code",
   "execution_count": null,
   "id": "c58a1497",
   "metadata": {},
   "outputs": [],
   "source": [
    "!pip install psycopg2-binary\n",
    "\n",
    "import os\n",
    "import subprocess\n",
    "from sqlalchemy import create_engine\n",
    "import pandas as pd\n",
    "from dotenv import load_dotenv\n",
    "\n"
   ]
  },
  {
   "cell_type": "markdown",
   "id": "191764c8",
   "metadata": {},
   "source": [
    "Global configs:"
   ]
  },
  {
   "cell_type": "code",
   "execution_count": null,
   "id": "73f64a4f",
   "metadata": {},
   "outputs": [],
   "source": [
    "# Path to root directory of the repo.\n",
    "root_dir_ = subprocess.check_output(\n",
    "    [\"git\", \"rev-parse\", \"--show-toplevel\"],\n",
    "    text=True,\n",
    ")\n",
    "ROOT_DIR = root_dir_.strip()\n",
    "\n",
    "# Path to data directory.\n",
    "DATA_DIR = os.path.join(ROOT_DIR, \"data\")\n",
    "\n",
    "# Paths to which dataframes will be saved\n",
    "DF_PKL_PATH = os.path.join(DATA_DIR, \"df.pkl\")\n",
    "DF_CSV_PATH = os.path.join(DATA_DIR, \"df.csv\") "
   ]
  },
  {
   "cell_type": "markdown",
   "id": "c7faf220",
   "metadata": {},
   "source": [
    "After exploring in db beaver. We join on id patient id"
   ]
  },
  {
   "cell_type": "code",
   "execution_count": null,
   "id": "b01cbbc8",
   "metadata": {},
   "outputs": [],
   "source": [
    "QUERY = \"\"\"\n",
    "    SET SCHEMA 'eda';\n",
    "\n",
    "    SELECT kchd.*, kchs.\"date\", kchs.price \n",
    "        FROM \n",
    "            king_county_house_details kchd \n",
    "        LEFT JOIN\n",
    "            king_county_house_sales kchs \n",
    "        ON kchd.id = kchs.house_id\n",
    "    ;\n",
    "\"\"\""
   ]
  },
  {
   "cell_type": "markdown",
   "id": "6e9628b8",
   "metadata": {},
   "source": [
    "Loads data from the database and stores it in pandas dataframes:"
   ]
  },
  {
   "cell_type": "code",
   "execution_count": null,
   "id": "fd43fdd3",
   "metadata": {},
   "outputs": [],
   "source": [
    "load_dotenv()\n",
    "\n",
    "DB_CONFIG = {\n",
    "    \"database\": os.getenv(\"DATABASE\"),\n",
    "    \"user\": os.getenv(\"USER_DB\"),\n",
    "    \"password\": os.getenv(\"PASSWORD\"),\n",
    "    \"host\": os.getenv(\"HOST\"),\n",
    "    \"port\": os.getenv(\"PORT\")\n",
    "}\n",
    "\n",
    "DB_STRING = (\n",
    "    \"postgresql://{user}:{password}@{host}:{port}/{database}\"\n",
    "    .format(**DB_CONFIG)\n",
    ")"
   ]
  },
  {
   "cell_type": "code",
   "execution_count": null,
   "id": "69d1bf5c",
   "metadata": {},
   "outputs": [],
   "source": [
    "db = create_engine(DB_STRING)\n",
    "\n",
    "with db.connect() as conn:\n",
    "    df = pd.read_sql(QUERY, conn)"
   ]
  },
  {
   "cell_type": "markdown",
   "id": "52d8afe3",
   "metadata": {},
   "source": [
    "Let us check that the data were retrieved."
   ]
  },
  {
   "cell_type": "code",
   "execution_count": null,
   "id": "bcc60988",
   "metadata": {},
   "outputs": [],
   "source": [
    "df.info()"
   ]
  },
  {
   "cell_type": "code",
   "execution_count": null,
   "id": "240154c4",
   "metadata": {},
   "outputs": [],
   "source": [
    "df.sample(10)\n",
    "\n"
   ]
  },
  {
   "cell_type": "markdown",
   "id": "75fd3377",
   "metadata": {},
   "source": [
    "Let us remove possibly duplicated columns (resulting from SQL joining operations):"
   ]
  },
  {
   "cell_type": "code",
   "execution_count": null,
   "id": "d60a3ed2",
   "metadata": {},
   "outputs": [],
   "source": [
    "df = df.loc[:, ~df.columns.duplicated()]\n"
   ]
  },
  {
   "cell_type": "markdown",
   "id": "386f70e8",
   "metadata": {},
   "source": [
    "Now, the dataframe is ready to be stored: In order to preserve the original data structure, we use a `.pickle` file; the `.csv` version only serves the purpose of a direct visual inspection."
   ]
  },
  {
   "cell_type": "code",
   "execution_count": null,
   "id": "15aef3f6",
   "metadata": {},
   "outputs": [],
   "source": [
    "df.to_pickle(DF_PKL_PATH)\n",
    "df.to_csv(DF_CSV_PATH, index=False)"
   ]
  },
  {
   "cell_type": "markdown",
   "id": "62bccdc7",
   "metadata": {},
   "source": [
    "---"
   ]
  },
  {
   "cell_type": "markdown",
   "id": "a0dbf2c1",
   "metadata": {},
   "source": [
    "# Appendix\n",
    "\n",
    "Let us briefly sketch how to download the data from [kaggle](https://www.kaggle.com). To that end, kaggle API credentials are required (such credential can be created on <https://www.kaggle.com/settings>)."
   ]
  },
  {
   "cell_type": "markdown",
   "id": "07d6428f",
   "metadata": {},
   "source": [
    "We need one additional module for this task:"
   ]
  },
  {
   "cell_type": "code",
   "execution_count": null,
   "id": "9bab0442",
   "metadata": {},
   "outputs": [],
   "source": [
    "from kaggle.api.kaggle_api_extended import KaggleApi"
   ]
  },
  {
   "cell_type": "markdown",
   "id": "5a151d87",
   "metadata": {},
   "source": [
    "Let us specify which dataset we concretely want to download and where we want to put it:"
   ]
  },
  {
   "cell_type": "code",
   "execution_count": null,
   "id": "3a076e06",
   "metadata": {},
   "outputs": [],
   "source": [
    "DATASET_SLUG = \"harlfoxem/housesalesprediction\"\n",
    "\n",
    "# This is the name kaggle gives to the downloaded file.\n",
    "TMP_NAME=\"kc_house_data.csv\"\n",
    "\n",
    "# This is the name we want the downloaded file to have.\n",
    "TARGET_NAME=\"df_kaggle.csv\"\n",
    "\n",
    "# # dataset_slug = \"uciml/pima-indians-diabetes-database\"\n",
    "# # dataset_slug = \"abderrahimalakouche/flight-delay-prediction\""
   ]
  },
  {
   "cell_type": "markdown",
   "id": "e950137c",
   "metadata": {},
   "source": [
    "Now, we load our kaggle API credentials which must be in the `.env` file:"
   ]
  },
  {
   "cell_type": "code",
   "execution_count": null,
   "id": "4fa1b42b",
   "metadata": {},
   "outputs": [],
   "source": [
    "load_dotenv()\n",
    "\n",
    "os.environ[\"KAGGLE_USERNAME\"] = os.getenv(\"KAGGLE_USERNAME\")\n",
    "os.environ[\"KAGGLE_KEY\"] = os.getenv(\"KAGGLE_KEY\")"
   ]
  },
  {
   "cell_type": "markdown",
   "id": "fea479c7",
   "metadata": {},
   "source": [
    "At last, the "
   ]
  },
  {
   "cell_type": "code",
   "execution_count": null,
   "id": "02a33196",
   "metadata": {},
   "outputs": [],
   "source": [
    "api = KaggleApi()\n",
    "api.authenticate()\n",
    "\n",
    "api.dataset_download_files(DATASET_SLUG, path=DATA_DIR, unzip=True)\n",
    "\n",
    "tmp_path = os.path.join(DATA_DIR, TMP_NAME)\n",
    "target_path = os.path.join(DATA_DIR, TARGET_NAME)\n",
    "\n",
    "os.rename(tmp_path, target_path)"
   ]
  }
 ],
 "metadata": {
  "kernelspec": {
   "display_name": ".venv",
   "language": "python",
   "name": "python3"
  },
  "language_info": {
   "codemirror_mode": {
    "name": "ipython",
    "version": 3
   },
   "file_extension": ".py",
   "mimetype": "text/x-python",
   "name": "python",
   "nbconvert_exporter": "python",
   "pygments_lexer": "ipython3",
   "version": "3.11.3"
  }
 },
 "nbformat": 4,
 "nbformat_minor": 5
}
